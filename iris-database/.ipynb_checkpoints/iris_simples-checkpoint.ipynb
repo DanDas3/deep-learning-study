{
  "nbformat": 4,
  "nbformat_minor": 0,
  "metadata": {
    "kernelspec": {
      "display_name": "Python 3",
      "language": "python",
      "name": "python3"
    },
    "language_info": {
      "codemirror_mode": {
        "name": "ipython",
        "version": 3
      },
      "file_extension": ".py",
      "mimetype": "text/x-python",
      "name": "python",
      "nbconvert_exporter": "python",
      "pygments_lexer": "ipython3",
      "version": "3.8.2"
    },
    "colab": {
      "name": "iris_simples-checkpoint.ipynb",
      "provenance": []
    }
  },
  "cells": [
    {
      "cell_type": "code",
      "metadata": {
        "id": "wUxDVbtvANn2",
        "colab_type": "code",
        "colab": {
          "base_uri": "https://localhost:8080/",
          "height": 121
        },
        "outputId": "53161b61-ada3-459d-a8c3-d48fe6ffb69a"
      },
      "source": [
        "!git clone https://github.com/DanDas3/deep-learning-study.git"
      ],
      "execution_count": 1,
      "outputs": [
        {
          "output_type": "stream",
          "text": [
            "Cloning into 'deep-learning-study'...\n",
            "remote: Enumerating objects: 35, done.\u001b[K\n",
            "remote: Counting objects:   2% (1/35)\u001b[K\rremote: Counting objects:   5% (2/35)\u001b[K\rremote: Counting objects:   8% (3/35)\u001b[K\rremote: Counting objects:  11% (4/35)\u001b[K\rremote: Counting objects:  14% (5/35)\u001b[K\rremote: Counting objects:  17% (6/35)\u001b[K\rremote: Counting objects:  20% (7/35)\u001b[K\rremote: Counting objects:  22% (8/35)\u001b[K\rremote: Counting objects:  25% (9/35)\u001b[K\rremote: Counting objects:  28% (10/35)\u001b[K\rremote: Counting objects:  31% (11/35)\u001b[K\rremote: Counting objects:  34% (12/35)\u001b[K\rremote: Counting objects:  37% (13/35)\u001b[K\rremote: Counting objects:  40% (14/35)\u001b[K\rremote: Counting objects:  42% (15/35)\u001b[K\rremote: Counting objects:  45% (16/35)\u001b[K\rremote: Counting objects:  48% (17/35)\u001b[K\rremote: Counting objects:  51% (18/35)\u001b[K\rremote: Counting objects:  54% (19/35)\u001b[K\rremote: Counting objects:  57% (20/35)\u001b[K\rremote: Counting objects:  60% (21/35)\u001b[K\rremote: Counting objects:  62% (22/35)\u001b[K\rremote: Counting objects:  65% (23/35)\u001b[K\rremote: Counting objects:  68% (24/35)\u001b[K\rremote: Counting objects:  71% (25/35)\u001b[K\rremote: Counting objects:  74% (26/35)\u001b[K\rremote: Counting objects:  77% (27/35)\u001b[K\rremote: Counting objects:  80% (28/35)\u001b[K\rremote: Counting objects:  82% (29/35)\u001b[K\rremote: Counting objects:  85% (30/35)\u001b[K\rremote: Counting objects:  88% (31/35)\u001b[K\rremote: Counting objects:  91% (32/35)\u001b[K\rremote: Counting objects:  94% (33/35)\u001b[K\rremote: Counting objects:  97% (34/35)\u001b[K\rremote: Counting objects: 100% (35/35)\u001b[K\rremote: Counting objects: 100% (35/35), done.\u001b[K\n",
            "remote: Compressing objects: 100% (34/34), done.\u001b[K\n",
            "remote: Total 35 (delta 16), reused 10 (delta 0), pack-reused 0\u001b[K\n",
            "Unpacking objects: 100% (35/35), done.\n"
          ],
          "name": "stdout"
        }
      ]
    },
    {
      "cell_type": "code",
      "metadata": {
        "id": "BTYP1UCK6iQu",
        "colab_type": "code",
        "colab": {}
      },
      "source": [
        "import pandas as pd"
      ],
      "execution_count": 3,
      "outputs": []
    },
    {
      "cell_type": "code",
      "metadata": {
        "id": "jVeKDNUz6iRQ",
        "colab_type": "code",
        "colab": {}
      },
      "source": [
        "base = pd.read_csv(\"deep-learning-study/iris-database/iris.csv\")"
      ],
      "execution_count": 4,
      "outputs": []
    },
    {
      "cell_type": "code",
      "metadata": {
        "id": "moDec04Z6iRv",
        "colab_type": "code",
        "colab": {}
      },
      "source": [
        "# Preparando a base de dados\n",
        "previsores = base.iloc[:, 0:4].values\n",
        "classe = base.iloc[:,4].values"
      ],
      "execution_count": 5,
      "outputs": []
    },
    {
      "cell_type": "code",
      "metadata": {
        "id": "VTfYmdi16iSL",
        "colab_type": "code",
        "colab": {}
      },
      "source": [
        "# Preparando para separar a base de dados de teste e treinamento\n",
        "from sklearn.model_selection import train_test_split"
      ],
      "execution_count": 6,
      "outputs": []
    },
    {
      "cell_type": "code",
      "metadata": {
        "id": "DLVJOfqu6iSt",
        "colab_type": "code",
        "colab": {}
      },
      "source": [
        "# Separando a base de dados de teste e treinamento\n",
        "previsores_treinamento, previsores_teste, classe_treinamento, classe_teste = train_test_split(previsores, classe, test_size=0.25)"
      ],
      "execution_count": 7,
      "outputs": []
    },
    {
      "cell_type": "code",
      "metadata": {
        "id": "Uvj_eeJ_6iTO",
        "colab_type": "code",
        "colab": {
          "base_uri": "https://localhost:8080/",
          "height": 34
        },
        "outputId": "d69c5187-1633-4636-ec25-0643f397179d"
      },
      "source": [
        "# Importando o Keras\n",
        "from keras.models import Sequential\n",
        "from keras.layers import Dense"
      ],
      "execution_count": 8,
      "outputs": [
        {
          "output_type": "stream",
          "text": [
            "Using TensorFlow backend.\n"
          ],
          "name": "stderr"
        }
      ]
    },
    {
      "cell_type": "code",
      "metadata": {
        "id": "PIcZwFvQEHB3",
        "colab_type": "code",
        "colab": {}
      },
      "source": [
        "classificador = Sequential()"
      ],
      "execution_count": null,
      "outputs": []
    }
  ]
}