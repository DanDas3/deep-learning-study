{
  "nbformat": 4,
  "nbformat_minor": 0,
  "metadata": {
    "colab": {
      "name": "breast-cancer.ipynb",
      "provenance": [],
      "collapsed_sections": [],
      "include_colab_link": true
    },
    "kernelspec": {
      "name": "python3",
      "display_name": "Python 3"
    },
    "pycharm": {
      "stem_cell": {
        "cell_type": "raw",
        "source": [],
        "metadata": {
          "collapsed": false
        }
      }
    }
  },
  "cells": [
    {
      "cell_type": "markdown",
      "metadata": {
        "id": "view-in-github",
        "colab_type": "text"
      },
      "source": [
        "<a href=\"https://colab.research.google.com/github/DanDas3/deep-learning-study/blob/master/breast-cancer/breast_cancer.ipynb\" target=\"_parent\"><img src=\"https://colab.research.google.com/assets/colab-badge.svg\" alt=\"Open In Colab\"/></a>"
      ]
    },
    {
      "cell_type": "code",
      "metadata": {
        "id": "RhOsTF5cMPvw",
        "colab_type": "code",
        "colab": {
          "base_uri": "https://localhost:8080/",
          "height": 34
        },
        "outputId": "f43c6fdf-a73e-41f8-e30b-54126d1d8bd4"
      },
      "source": [
        "!git clone https://github.com/DanDas3/deep-learning-study.git"
      ],
      "execution_count": 17,
      "outputs": [
        {
          "output_type": "stream",
          "text": [
            "fatal: destination path 'deep-learning-study' already exists and is not an empty directory.\n"
          ],
          "name": "stdout"
        }
      ]
    },
    {
      "cell_type": "code",
      "metadata": {
        "id": "Cvkx9C2jPP0V",
        "colab_type": "code",
        "colab": {}
      },
      "source": [
        "import pandas as pd"
      ],
      "execution_count": 18,
      "outputs": []
    },
    {
      "cell_type": "code",
      "metadata": {
        "id": "uOnB39biPTwz",
        "colab_type": "code",
        "colab": {}
      },
      "source": [
        "# carregando arquivos de dados\n",
        "previsores = pd.read_csv(\"deep-learning-study/breast-cancer/entradas_breast.csv\")\n",
        "classe = pd.read_csv(\"deep-learning-study/breast-cancer/saida_breast.csv\")"
      ],
      "execution_count": 3,
      "outputs": []
    },
    {
      "cell_type": "code",
      "metadata": {
        "id": "owHdmAW3QuK-",
        "colab_type": "code",
        "colab": {}
      },
      "source": [
        "# Scikit-Learn\n",
        "from sklearn.model_selection import train_test_split"
      ],
      "execution_count": 4,
      "outputs": []
    },
    {
      "cell_type": "code",
      "metadata": {
        "id": "AiUn8yNtQjP6",
        "colab_type": "code",
        "colab": {}
      },
      "source": [
        "# Separando dados de treinamento e de teste\n",
        "previsores_treinamento, previsores_teste, classe_treinamento, classe_teste = train_test_split(previsores, classe, test_size=0.25)"
      ],
      "execution_count": 5,
      "outputs": []
    },
    {
      "cell_type": "code",
      "metadata": {
        "id": "yFjLXU_QSy46",
        "colab_type": "code",
        "colab": {
          "base_uri": "https://localhost:8080/",
          "height": 34
        },
        "outputId": "48c942c6-ef79-4e48-83e0-a992676e5957"
      },
      "source": [
        "# Importacao do keras\n",
        "import keras\n",
        "from keras.models import Sequential\n",
        "from keras.layers import Dense"
      ],
      "execution_count": 6,
      "outputs": [
        {
          "output_type": "stream",
          "text": [
            "Using TensorFlow backend.\n"
          ],
          "name": "stderr"
        }
      ]
    },
    {
      "cell_type": "code",
      "metadata": {
        "id": "W4kmMWGLTTTN",
        "colab_type": "code",
        "colab": {}
      },
      "source": [
        "# Construindo a estrutura da rede neural\n",
        "classificador = Sequential()\n",
        "classificador.add(Dense(units=16, activation='relu', kernel_initializer='random_uniform',\n",
        "                        input_dim=30))\n",
        "classificador.add(Dense(units=16, activation='relu', kernel_initializer='random_uniform'))\n",
        "classificador.add(Dense(units=1, activation='sigmoid'))"
      ],
      "execution_count": 19,
      "outputs": []
    },
    {
      "cell_type": "code",
      "metadata": {
        "pycharm": {
          "name": "#%%\n"
        },
        "id": "Q61mRE9GL-9Q",
        "colab_type": "code",
        "colab": {}
      },
      "source": [
        "# Compilando a rede neural\n",
        "# Personalizando o otimizador\n",
        "otimizador = keras.optimizers.Adam(lr=0.001, decay=0.0001,clipvalue=0.5)\n",
        "classificador.compile(optimizer=otimizador, loss='binary_crossentropy', metrics=['binary_accuracy'])"
      ],
      "execution_count": 20,
      "outputs": []
    },
    {
      "cell_type": "code",
      "metadata": {
        "pycharm": {
          "name": "#%%\n"
        },
        "id": "2d8IfjqVL-9q",
        "colab_type": "code",
        "colab": {
          "base_uri": "https://localhost:8080/",
          "height": 1000
        },
        "outputId": "d54060a2-093a-4a58-ad33-3e9f0c65486b"
      },
      "source": [
        "# Treinamento da Rede Neural\n",
        "classificador.fit(previsores_treinamento, classe_treinamento, batch_size=10, epochs = 100)"
      ],
      "execution_count": 21,
      "outputs": [
        {
          "output_type": "stream",
          "text": [
            "Epoch 1/100\n",
            "426/426 [==============================] - 0s 336us/step - loss: 1.6188 - binary_accuracy: 0.5822\n",
            "Epoch 2/100\n",
            "426/426 [==============================] - 0s 114us/step - loss: 0.5278 - binary_accuracy: 0.6690\n",
            "Epoch 3/100\n",
            "426/426 [==============================] - 0s 115us/step - loss: 0.4734 - binary_accuracy: 0.7887\n",
            "Epoch 4/100\n",
            "426/426 [==============================] - 0s 112us/step - loss: 0.4330 - binary_accuracy: 0.8075\n",
            "Epoch 5/100\n",
            "426/426 [==============================] - 0s 112us/step - loss: 0.4306 - binary_accuracy: 0.8052\n",
            "Epoch 6/100\n",
            "426/426 [==============================] - 0s 117us/step - loss: 0.4124 - binary_accuracy: 0.8028\n",
            "Epoch 7/100\n",
            "426/426 [==============================] - 0s 114us/step - loss: 0.3677 - binary_accuracy: 0.8498\n",
            "Epoch 8/100\n",
            "426/426 [==============================] - 0s 134us/step - loss: 0.3735 - binary_accuracy: 0.8404\n",
            "Epoch 9/100\n",
            "426/426 [==============================] - 0s 119us/step - loss: 0.4132 - binary_accuracy: 0.8099\n",
            "Epoch 10/100\n",
            "426/426 [==============================] - 0s 113us/step - loss: 0.3510 - binary_accuracy: 0.8521\n",
            "Epoch 11/100\n",
            "426/426 [==============================] - 0s 115us/step - loss: 0.4296 - binary_accuracy: 0.8592\n",
            "Epoch 12/100\n",
            "426/426 [==============================] - 0s 112us/step - loss: 0.3879 - binary_accuracy: 0.8592\n",
            "Epoch 13/100\n",
            "426/426 [==============================] - 0s 116us/step - loss: 0.4945 - binary_accuracy: 0.8474\n",
            "Epoch 14/100\n",
            "426/426 [==============================] - 0s 120us/step - loss: 0.3488 - binary_accuracy: 0.8662\n",
            "Epoch 15/100\n",
            "426/426 [==============================] - 0s 114us/step - loss: 0.4374 - binary_accuracy: 0.8568\n",
            "Epoch 16/100\n",
            "426/426 [==============================] - 0s 114us/step - loss: 0.3706 - binary_accuracy: 0.8662\n",
            "Epoch 17/100\n",
            "426/426 [==============================] - 0s 116us/step - loss: 0.3872 - binary_accuracy: 0.8615\n",
            "Epoch 18/100\n",
            "426/426 [==============================] - 0s 116us/step - loss: 0.4193 - binary_accuracy: 0.8545\n",
            "Epoch 19/100\n",
            "426/426 [==============================] - 0s 114us/step - loss: 0.4214 - binary_accuracy: 0.8310\n",
            "Epoch 20/100\n",
            "426/426 [==============================] - 0s 113us/step - loss: 0.4446 - binary_accuracy: 0.8239\n",
            "Epoch 21/100\n",
            "426/426 [==============================] - 0s 126us/step - loss: 0.4071 - binary_accuracy: 0.8521\n",
            "Epoch 22/100\n",
            "426/426 [==============================] - 0s 123us/step - loss: 0.3684 - binary_accuracy: 0.8685\n",
            "Epoch 23/100\n",
            "426/426 [==============================] - 0s 113us/step - loss: 0.4851 - binary_accuracy: 0.8286\n",
            "Epoch 24/100\n",
            "426/426 [==============================] - 0s 112us/step - loss: 0.4364 - binary_accuracy: 0.8709\n",
            "Epoch 25/100\n",
            "426/426 [==============================] - 0s 110us/step - loss: 0.3298 - binary_accuracy: 0.8756\n",
            "Epoch 26/100\n",
            "426/426 [==============================] - 0s 116us/step - loss: 0.3735 - binary_accuracy: 0.8638\n",
            "Epoch 27/100\n",
            "426/426 [==============================] - 0s 110us/step - loss: 0.3382 - binary_accuracy: 0.8756\n",
            "Epoch 28/100\n",
            "426/426 [==============================] - 0s 114us/step - loss: 0.3189 - binary_accuracy: 0.8803\n",
            "Epoch 29/100\n",
            "426/426 [==============================] - 0s 115us/step - loss: 0.3597 - binary_accuracy: 0.8850\n",
            "Epoch 30/100\n",
            "426/426 [==============================] - 0s 129us/step - loss: 0.3299 - binary_accuracy: 0.8662\n",
            "Epoch 31/100\n",
            "426/426 [==============================] - 0s 112us/step - loss: 0.3142 - binary_accuracy: 0.8779\n",
            "Epoch 32/100\n",
            "426/426 [==============================] - 0s 113us/step - loss: 0.3774 - binary_accuracy: 0.8615\n",
            "Epoch 33/100\n",
            "426/426 [==============================] - 0s 116us/step - loss: 0.3337 - binary_accuracy: 0.8779\n",
            "Epoch 34/100\n",
            "426/426 [==============================] - 0s 118us/step - loss: 0.3199 - binary_accuracy: 0.8779\n",
            "Epoch 35/100\n",
            "426/426 [==============================] - 0s 108us/step - loss: 0.3300 - binary_accuracy: 0.8756\n",
            "Epoch 36/100\n",
            "426/426 [==============================] - 0s 115us/step - loss: 0.3494 - binary_accuracy: 0.8662\n",
            "Epoch 37/100\n",
            "426/426 [==============================] - 0s 127us/step - loss: 0.4109 - binary_accuracy: 0.8333\n",
            "Epoch 38/100\n",
            "426/426 [==============================] - 0s 120us/step - loss: 0.3361 - binary_accuracy: 0.8709\n",
            "Epoch 39/100\n",
            "426/426 [==============================] - 0s 113us/step - loss: 0.3274 - binary_accuracy: 0.8685\n",
            "Epoch 40/100\n",
            "426/426 [==============================] - 0s 114us/step - loss: 0.4346 - binary_accuracy: 0.8545\n",
            "Epoch 41/100\n",
            "426/426 [==============================] - 0s 126us/step - loss: 0.3328 - binary_accuracy: 0.8873\n",
            "Epoch 42/100\n",
            "426/426 [==============================] - 0s 114us/step - loss: 0.3167 - binary_accuracy: 0.8850\n",
            "Epoch 43/100\n",
            "426/426 [==============================] - 0s 112us/step - loss: 0.3155 - binary_accuracy: 0.8662\n",
            "Epoch 44/100\n",
            "426/426 [==============================] - 0s 115us/step - loss: 0.3459 - binary_accuracy: 0.8709\n",
            "Epoch 45/100\n",
            "426/426 [==============================] - 0s 113us/step - loss: 0.3104 - binary_accuracy: 0.8850\n",
            "Epoch 46/100\n",
            "426/426 [==============================] - 0s 117us/step - loss: 0.3501 - binary_accuracy: 0.8685\n",
            "Epoch 47/100\n",
            "426/426 [==============================] - 0s 115us/step - loss: 0.3337 - binary_accuracy: 0.8826\n",
            "Epoch 48/100\n",
            "426/426 [==============================] - 0s 111us/step - loss: 0.3314 - binary_accuracy: 0.8732\n",
            "Epoch 49/100\n",
            "426/426 [==============================] - 0s 113us/step - loss: 0.3023 - binary_accuracy: 0.8897\n",
            "Epoch 50/100\n",
            "426/426 [==============================] - 0s 115us/step - loss: 0.3360 - binary_accuracy: 0.8991\n",
            "Epoch 51/100\n",
            "426/426 [==============================] - 0s 110us/step - loss: 0.3158 - binary_accuracy: 0.8850\n",
            "Epoch 52/100\n",
            "426/426 [==============================] - 0s 115us/step - loss: 0.3179 - binary_accuracy: 0.8779\n",
            "Epoch 53/100\n",
            "426/426 [==============================] - 0s 113us/step - loss: 0.3165 - binary_accuracy: 0.8685\n",
            "Epoch 54/100\n",
            "426/426 [==============================] - 0s 116us/step - loss: 0.2799 - binary_accuracy: 0.9014\n",
            "Epoch 55/100\n",
            "426/426 [==============================] - 0s 116us/step - loss: 0.2702 - binary_accuracy: 0.9038\n",
            "Epoch 56/100\n",
            "426/426 [==============================] - 0s 114us/step - loss: 0.2804 - binary_accuracy: 0.9014\n",
            "Epoch 57/100\n",
            "426/426 [==============================] - 0s 115us/step - loss: 0.2952 - binary_accuracy: 0.9038\n",
            "Epoch 58/100\n",
            "426/426 [==============================] - 0s 112us/step - loss: 0.2751 - binary_accuracy: 0.9061\n",
            "Epoch 59/100\n",
            "426/426 [==============================] - 0s 115us/step - loss: 0.3823 - binary_accuracy: 0.8756\n",
            "Epoch 60/100\n",
            "426/426 [==============================] - 0s 129us/step - loss: 0.4121 - binary_accuracy: 0.8826\n",
            "Epoch 61/100\n",
            "426/426 [==============================] - 0s 144us/step - loss: 0.4187 - binary_accuracy: 0.8709\n",
            "Epoch 62/100\n",
            "426/426 [==============================] - 0s 113us/step - loss: 0.4188 - binary_accuracy: 0.8756\n",
            "Epoch 63/100\n",
            "426/426 [==============================] - 0s 114us/step - loss: 0.3088 - binary_accuracy: 0.8967\n",
            "Epoch 64/100\n",
            "426/426 [==============================] - 0s 113us/step - loss: 0.3341 - binary_accuracy: 0.8920\n",
            "Epoch 65/100\n",
            "426/426 [==============================] - 0s 114us/step - loss: 0.3492 - binary_accuracy: 0.8991\n",
            "Epoch 66/100\n",
            "426/426 [==============================] - 0s 125us/step - loss: 0.3263 - binary_accuracy: 0.8920\n",
            "Epoch 67/100\n",
            "426/426 [==============================] - 0s 119us/step - loss: 0.3726 - binary_accuracy: 0.8991\n",
            "Epoch 68/100\n",
            "426/426 [==============================] - 0s 116us/step - loss: 0.3232 - binary_accuracy: 0.8991\n",
            "Epoch 69/100\n",
            "426/426 [==============================] - 0s 110us/step - loss: 0.2942 - binary_accuracy: 0.9085\n",
            "Epoch 70/100\n",
            "426/426 [==============================] - 0s 113us/step - loss: 0.2902 - binary_accuracy: 0.9108\n",
            "Epoch 71/100\n",
            "426/426 [==============================] - 0s 118us/step - loss: 0.3209 - binary_accuracy: 0.9038\n",
            "Epoch 72/100\n",
            "426/426 [==============================] - 0s 116us/step - loss: 0.3772 - binary_accuracy: 0.8897\n",
            "Epoch 73/100\n",
            "426/426 [==============================] - 0s 117us/step - loss: 0.3521 - binary_accuracy: 0.8873\n",
            "Epoch 74/100\n",
            "426/426 [==============================] - 0s 117us/step - loss: 0.2899 - binary_accuracy: 0.9085\n",
            "Epoch 75/100\n",
            "426/426 [==============================] - 0s 119us/step - loss: 0.3993 - binary_accuracy: 0.8897\n",
            "Epoch 76/100\n",
            "426/426 [==============================] - 0s 115us/step - loss: 0.3616 - binary_accuracy: 0.9085\n",
            "Epoch 77/100\n",
            "426/426 [==============================] - 0s 112us/step - loss: 0.4456 - binary_accuracy: 0.8779\n",
            "Epoch 78/100\n",
            "426/426 [==============================] - 0s 113us/step - loss: 0.3126 - binary_accuracy: 0.9014\n",
            "Epoch 79/100\n",
            "426/426 [==============================] - 0s 119us/step - loss: 0.3225 - binary_accuracy: 0.9038\n",
            "Epoch 80/100\n",
            "426/426 [==============================] - 0s 130us/step - loss: 0.2990 - binary_accuracy: 0.9061\n",
            "Epoch 81/100\n",
            "426/426 [==============================] - 0s 109us/step - loss: 0.2830 - binary_accuracy: 0.9178\n",
            "Epoch 82/100\n",
            "426/426 [==============================] - 0s 112us/step - loss: 0.3430 - binary_accuracy: 0.9038\n",
            "Epoch 83/100\n",
            "426/426 [==============================] - 0s 114us/step - loss: 0.3345 - binary_accuracy: 0.8967\n",
            "Epoch 84/100\n",
            "426/426 [==============================] - 0s 112us/step - loss: 0.3826 - binary_accuracy: 0.8944\n",
            "Epoch 85/100\n",
            "426/426 [==============================] - 0s 112us/step - loss: 0.3849 - binary_accuracy: 0.9061\n",
            "Epoch 86/100\n",
            "426/426 [==============================] - 0s 114us/step - loss: 0.3307 - binary_accuracy: 0.9061\n",
            "Epoch 87/100\n",
            "426/426 [==============================] - 0s 117us/step - loss: 0.3377 - binary_accuracy: 0.9108\n",
            "Epoch 88/100\n",
            "426/426 [==============================] - 0s 120us/step - loss: 0.4241 - binary_accuracy: 0.8779\n",
            "Epoch 89/100\n",
            "426/426 [==============================] - 0s 120us/step - loss: 0.3638 - binary_accuracy: 0.9061\n",
            "Epoch 90/100\n",
            "426/426 [==============================] - 0s 112us/step - loss: 0.2999 - binary_accuracy: 0.9108\n",
            "Epoch 91/100\n",
            "426/426 [==============================] - 0s 124us/step - loss: 0.3001 - binary_accuracy: 0.9319\n",
            "Epoch 92/100\n",
            "426/426 [==============================] - 0s 115us/step - loss: 0.3610 - binary_accuracy: 0.8850\n",
            "Epoch 93/100\n",
            "426/426 [==============================] - 0s 119us/step - loss: 0.3673 - binary_accuracy: 0.8944\n",
            "Epoch 94/100\n",
            "426/426 [==============================] - 0s 113us/step - loss: 0.3570 - binary_accuracy: 0.8967\n",
            "Epoch 95/100\n",
            "426/426 [==============================] - 0s 117us/step - loss: 0.3250 - binary_accuracy: 0.8897\n",
            "Epoch 96/100\n",
            "426/426 [==============================] - 0s 112us/step - loss: 0.3762 - binary_accuracy: 0.8944\n",
            "Epoch 97/100\n",
            "426/426 [==============================] - 0s 113us/step - loss: 0.3922 - binary_accuracy: 0.9014\n",
            "Epoch 98/100\n",
            "426/426 [==============================] - 0s 119us/step - loss: 0.4803 - binary_accuracy: 0.8779\n",
            "Epoch 99/100\n",
            "426/426 [==============================] - 0s 119us/step - loss: 0.3822 - binary_accuracy: 0.8920\n",
            "Epoch 100/100\n",
            "426/426 [==============================] - 0s 123us/step - loss: 0.3596 - binary_accuracy: 0.9108\n"
          ],
          "name": "stdout"
        },
        {
          "output_type": "execute_result",
          "data": {
            "text/plain": [
              "<keras.callbacks.callbacks.History at 0x7fd3ecac5cf8>"
            ]
          },
          "metadata": {
            "tags": []
          },
          "execution_count": 21
        }
      ]
    },
    {
      "cell_type": "code",
      "metadata": {
        "id": "OZV2VpuYOT8c",
        "colab_type": "code",
        "colab": {}
      },
      "source": [
        "# Avaliando\n",
        "previsoes = classificador.predict(previsores_teste)\n",
        "previsoes = (previsoes > 0.5)"
      ],
      "execution_count": 22,
      "outputs": []
    },
    {
      "cell_type": "code",
      "metadata": {
        "id": "Bj_ua2d-Opez",
        "colab_type": "code",
        "colab": {
          "base_uri": "https://localhost:8080/",
          "height": 52
        },
        "outputId": "a34b8f58-c48c-454b-a79e-ed3f90dc6cd1"
      },
      "source": [
        "# Gerando a Matriz de Confusão\n",
        "from sklearn.metrics import confusion_matrix, accuracy_score\n",
        "precisao = accuracy_score(classe_teste, previsoes)\n",
        "matriz = confusion_matrix(classe_teste, previsoes)\n",
        "print(matriz)"
      ],
      "execution_count": 23,
      "outputs": [
        {
          "output_type": "stream",
          "text": [
            "[[44 15]\n",
            " [ 7 77]]\n"
          ],
          "name": "stdout"
        }
      ]
    },
    {
      "cell_type": "code",
      "metadata": {
        "id": "QFTKa-OIQCkH",
        "colab_type": "code",
        "colab": {
          "base_uri": "https://localhost:8080/",
          "height": 52
        },
        "outputId": "00f37c1a-9ce2-461b-ed74-d6ec0c941d0f"
      },
      "source": [
        "# Avaliando com o keras\n",
        "resultado = classificador.evaluate(previsores_teste, classe_teste)\n",
        "print(resultado)"
      ],
      "execution_count": 24,
      "outputs": [
        {
          "output_type": "stream",
          "text": [
            "143/143 [==============================] - 0s 153us/step\n",
            "[0.5769809602232246, 0.8461538553237915]\n"
          ],
          "name": "stdout"
        }
      ]
    }
  ]
}