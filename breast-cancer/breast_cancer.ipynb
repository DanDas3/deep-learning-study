{
  "nbformat": 4,
  "nbformat_minor": 0,
  "metadata": {
    "colab": {
      "name": "breast-cancer.ipynb",
      "provenance": [],
      "collapsed_sections": [],
      "include_colab_link": true
    },
    "kernelspec": {
      "name": "python3",
      "display_name": "Python 3"
    },
    "pycharm": {
      "stem_cell": {
        "cell_type": "raw",
        "source": [],
        "metadata": {
          "collapsed": false
        }
      }
    }
  },
  "cells": [
    {
      "cell_type": "markdown",
      "metadata": {
        "id": "view-in-github",
        "colab_type": "text"
      },
      "source": [
        "<a href=\"https://colab.research.google.com/github/DanDas3/deep-learning-study/blob/master/breast-cancer/breast_cancer.ipynb\" target=\"_parent\"><img src=\"https://colab.research.google.com/assets/colab-badge.svg\" alt=\"Open In Colab\"/></a>"
      ]
    },
    {
      "cell_type": "code",
      "metadata": {
        "id": "RhOsTF5cMPvw",
        "colab_type": "code",
        "colab": {
          "base_uri": "https://localhost:8080/",
          "height": 121
        },
        "outputId": "0959c0c8-7b01-4624-c282-05449ddfeb35"
      },
      "source": [
        "!git clone https://github.com/DanDas3/deep-learning-study.git"
      ],
      "execution_count": 1,
      "outputs": [
        {
          "output_type": "stream",
          "text": [
            "Cloning into 'deep-learning-study'...\n",
            "remote: Enumerating objects: 21, done.\u001b[K\n",
            "remote: Counting objects:   4% (1/21)\u001b[K\rremote: Counting objects:   9% (2/21)\u001b[K\rremote: Counting objects:  14% (3/21)\u001b[K\rremote: Counting objects:  19% (4/21)\u001b[K\rremote: Counting objects:  23% (5/21)\u001b[K\rremote: Counting objects:  28% (6/21)\u001b[K\rremote: Counting objects:  33% (7/21)\u001b[K\rremote: Counting objects:  38% (8/21)\u001b[K\rremote: Counting objects:  42% (9/21)\u001b[K\rremote: Counting objects:  47% (10/21)\u001b[K\rremote: Counting objects:  52% (11/21)\u001b[K\rremote: Counting objects:  57% (12/21)\u001b[K\rremote: Counting objects:  61% (13/21)\u001b[K\rremote: Counting objects:  66% (14/21)\u001b[K\rremote: Counting objects:  71% (15/21)\u001b[K\rremote: Counting objects:  76% (16/21)\u001b[K\rremote: Counting objects:  80% (17/21)\u001b[K\rremote: Counting objects:  85% (18/21)\u001b[K\rremote: Counting objects:  90% (19/21)\u001b[K\rremote: Counting objects:  95% (20/21)\u001b[K\rremote: Counting objects: 100% (21/21)\u001b[K\rremote: Counting objects: 100% (21/21), done.\u001b[K\n",
            "remote: Compressing objects:   5% (1/20)\u001b[K\rremote: Compressing objects:  10% (2/20)\u001b[K\rremote: Compressing objects:  15% (3/20)\u001b[K\rremote: Compressing objects:  20% (4/20)\u001b[K\rremote: Compressing objects:  25% (5/20)\u001b[K\rremote: Compressing objects:  30% (6/20)\u001b[K\rremote: Compressing objects:  35% (7/20)\u001b[K\rremote: Compressing objects:  40% (8/20)\u001b[K\rremote: Compressing objects:  45% (9/20)\u001b[K\rremote: Compressing objects:  50% (10/20)\u001b[K\rremote: Compressing objects:  55% (11/20)\u001b[K\rremote: Compressing objects:  60% (12/20)\u001b[K\rremote: Compressing objects:  65% (13/20)\u001b[K\rremote: Compressing objects:  70% (14/20)\u001b[K\rremote: Compressing objects:  75% (15/20)\u001b[K\rremote: Compressing objects:  80% (16/20)\u001b[K\rremote: Compressing objects:  85% (17/20)\u001b[K\rremote: Compressing objects:  90% (18/20)\u001b[K\rremote: Compressing objects:  95% (19/20)\u001b[K\rremote: Compressing objects: 100% (20/20)\u001b[K\rremote: Compressing objects: 100% (20/20), done.\u001b[K\n",
            "Unpacking objects:   4% (1/21)   \rUnpacking objects:   9% (2/21)   \rUnpacking objects:  14% (3/21)   \rUnpacking objects:  19% (4/21)   \rUnpacking objects:  23% (5/21)   \rUnpacking objects:  28% (6/21)   \rUnpacking objects:  33% (7/21)   \rUnpacking objects:  38% (8/21)   \rUnpacking objects:  42% (9/21)   \rUnpacking objects:  47% (10/21)   \rremote: Total 21 (delta 9), reused 7 (delta 0), pack-reused 0\u001b[K\n",
            "Unpacking objects:  52% (11/21)   \rUnpacking objects:  57% (12/21)   \rUnpacking objects:  61% (13/21)   \rUnpacking objects:  66% (14/21)   \rUnpacking objects:  71% (15/21)   \rUnpacking objects:  76% (16/21)   \rUnpacking objects:  80% (17/21)   \rUnpacking objects:  85% (18/21)   \rUnpacking objects:  90% (19/21)   \rUnpacking objects:  95% (20/21)   \rUnpacking objects: 100% (21/21)   \rUnpacking objects: 100% (21/21), done.\n"
          ],
          "name": "stdout"
        }
      ]
    },
    {
      "cell_type": "code",
      "metadata": {
        "id": "Cvkx9C2jPP0V",
        "colab_type": "code",
        "colab": {}
      },
      "source": [
        "import pandas as pd"
      ],
      "execution_count": 2,
      "outputs": []
    },
    {
      "cell_type": "code",
      "metadata": {
        "id": "uOnB39biPTwz",
        "colab_type": "code",
        "colab": {}
      },
      "source": [
        "# carregando arquivos de dados\n",
        "previsores = pd.read_csv(\"deep-learning-study/breast-cancer/entradas_breast.csv\")\n",
        "classe = pd.read_csv(\"deep-learning-study/breast-cancer/saida_breast.csv\")"
      ],
      "execution_count": 3,
      "outputs": []
    },
    {
      "cell_type": "code",
      "metadata": {
        "id": "owHdmAW3QuK-",
        "colab_type": "code",
        "colab": {}
      },
      "source": [
        "# Scikit-Learn\n",
        "from sklearn.model_selection import train_test_split"
      ],
      "execution_count": 4,
      "outputs": []
    },
    {
      "cell_type": "code",
      "metadata": {
        "id": "AiUn8yNtQjP6",
        "colab_type": "code",
        "colab": {}
      },
      "source": [
        "# Separando dados de treinamento e de teste\n",
        "previsores_treinamento, previsores_teste, classe_treinamento, classe_teste = train_test_split(previsores, classe, test_size=0.25)"
      ],
      "execution_count": 5,
      "outputs": []
    },
    {
      "cell_type": "code",
      "metadata": {
        "id": "yFjLXU_QSy46",
        "colab_type": "code",
        "colab": {
          "base_uri": "https://localhost:8080/",
          "height": 34
        },
        "outputId": "48c942c6-ef79-4e48-83e0-a992676e5957"
      },
      "source": [
        "# Importacao do keras\n",
        "import keras\n",
        "from keras.models import Sequential\n",
        "from keras.layers import Dense"
      ],
      "execution_count": 6,
      "outputs": [
        {
          "output_type": "stream",
          "text": [
            "Using TensorFlow backend.\n"
          ],
          "name": "stderr"
        }
      ]
    },
    {
      "cell_type": "code",
      "metadata": {
        "id": "W4kmMWGLTTTN",
        "colab_type": "code",
        "colab": {}
      },
      "source": [
        "# Construindo a estrutura da rede neural\n",
        "classificador = Sequential()\n",
        "classificador.add(Dense(units=16, activation='relu', kernel_initializer='random_uniform',\n",
        "                        input_dim=30))\n",
        "classificador.add(Dense(units=1, activation='sigmoid'))"
      ],
      "execution_count": 8,
      "outputs": []
    },
    {
      "cell_type": "code",
      "metadata": {
        "pycharm": {
          "name": "#%%\n"
        },
        "id": "Q61mRE9GL-9Q",
        "colab_type": "code",
        "colab": {}
      },
      "source": [
        "# Compilando a rede neural\n",
        "classificador.compile(optimizer='adam', loss='binary_crossentropy', metrics=['binary_accuracy'])"
      ],
      "execution_count": 10,
      "outputs": []
    },
    {
      "cell_type": "code",
      "metadata": {
        "pycharm": {
          "name": "#%%\n"
        },
        "id": "2d8IfjqVL-9q",
        "colab_type": "code",
        "colab": {
          "base_uri": "https://localhost:8080/",
          "height": 1000
        },
        "outputId": "ba5a3fe0-7130-4d04-c9de-141fdcfd51b9"
      },
      "source": [
        "# Treinamento da Rede Neural\n",
        "classificador.fit(previsores_treinamento, classe_treinamento, batch_size=10, epochs = 100)"
      ],
      "execution_count": 11,
      "outputs": [
        {
          "output_type": "stream",
          "text": [
            "Epoch 1/100\n",
            "426/426 [==============================] - 0s 779us/step - loss: 3.9968 - binary_accuracy: 0.6831\n",
            "Epoch 2/100\n",
            "426/426 [==============================] - 0s 103us/step - loss: 0.9207 - binary_accuracy: 0.7793\n",
            "Epoch 3/100\n",
            "426/426 [==============================] - 0s 116us/step - loss: 0.8931 - binary_accuracy: 0.7981\n",
            "Epoch 4/100\n",
            "426/426 [==============================] - 0s 106us/step - loss: 0.6357 - binary_accuracy: 0.8169\n",
            "Epoch 5/100\n",
            "426/426 [==============================] - 0s 107us/step - loss: 0.5210 - binary_accuracy: 0.8592\n",
            "Epoch 6/100\n",
            "426/426 [==============================] - 0s 119us/step - loss: 0.3585 - binary_accuracy: 0.8638\n",
            "Epoch 7/100\n",
            "426/426 [==============================] - 0s 111us/step - loss: 0.5072 - binary_accuracy: 0.8498\n",
            "Epoch 8/100\n",
            "426/426 [==============================] - 0s 108us/step - loss: 0.4345 - binary_accuracy: 0.8873\n",
            "Epoch 9/100\n",
            "426/426 [==============================] - 0s 106us/step - loss: 0.5999 - binary_accuracy: 0.8357\n",
            "Epoch 10/100\n",
            "426/426 [==============================] - 0s 107us/step - loss: 0.4046 - binary_accuracy: 0.8826\n",
            "Epoch 11/100\n",
            "426/426 [==============================] - 0s 102us/step - loss: 0.2872 - binary_accuracy: 0.8967\n",
            "Epoch 12/100\n",
            "426/426 [==============================] - 0s 106us/step - loss: 0.5397 - binary_accuracy: 0.8498\n",
            "Epoch 13/100\n",
            "426/426 [==============================] - 0s 103us/step - loss: 0.9103 - binary_accuracy: 0.8239\n",
            "Epoch 14/100\n",
            "426/426 [==============================] - 0s 102us/step - loss: 0.6319 - binary_accuracy: 0.8474\n",
            "Epoch 15/100\n",
            "426/426 [==============================] - 0s 107us/step - loss: 0.4446 - binary_accuracy: 0.8615\n",
            "Epoch 16/100\n",
            "426/426 [==============================] - 0s 105us/step - loss: 0.5306 - binary_accuracy: 0.8638\n",
            "Epoch 17/100\n",
            "426/426 [==============================] - 0s 105us/step - loss: 0.3982 - binary_accuracy: 0.8803\n",
            "Epoch 18/100\n",
            "426/426 [==============================] - 0s 114us/step - loss: 0.3179 - binary_accuracy: 0.8991\n",
            "Epoch 19/100\n",
            "426/426 [==============================] - 0s 108us/step - loss: 0.6351 - binary_accuracy: 0.8638\n",
            "Epoch 20/100\n",
            "426/426 [==============================] - 0s 108us/step - loss: 0.3404 - binary_accuracy: 0.8967\n",
            "Epoch 21/100\n",
            "426/426 [==============================] - 0s 107us/step - loss: 0.3018 - binary_accuracy: 0.8967\n",
            "Epoch 22/100\n",
            "426/426 [==============================] - 0s 109us/step - loss: 0.3442 - binary_accuracy: 0.8685\n",
            "Epoch 23/100\n",
            "426/426 [==============================] - 0s 109us/step - loss: 0.3468 - binary_accuracy: 0.8920\n",
            "Epoch 24/100\n",
            "426/426 [==============================] - 0s 111us/step - loss: 0.3776 - binary_accuracy: 0.8897\n",
            "Epoch 25/100\n",
            "426/426 [==============================] - 0s 106us/step - loss: 0.2507 - binary_accuracy: 0.9178\n",
            "Epoch 26/100\n",
            "426/426 [==============================] - 0s 127us/step - loss: 0.3373 - binary_accuracy: 0.8967\n",
            "Epoch 27/100\n",
            "426/426 [==============================] - 0s 133us/step - loss: 0.2667 - binary_accuracy: 0.8967\n",
            "Epoch 28/100\n",
            "426/426 [==============================] - 0s 105us/step - loss: 0.8854 - binary_accuracy: 0.8192\n",
            "Epoch 29/100\n",
            "426/426 [==============================] - 0s 110us/step - loss: 0.6145 - binary_accuracy: 0.8732\n",
            "Epoch 30/100\n",
            "426/426 [==============================] - 0s 106us/step - loss: 0.6246 - binary_accuracy: 0.8474\n",
            "Epoch 31/100\n",
            "426/426 [==============================] - 0s 112us/step - loss: 0.3266 - binary_accuracy: 0.9061\n",
            "Epoch 32/100\n",
            "426/426 [==============================] - 0s 111us/step - loss: 0.5270 - binary_accuracy: 0.8897\n",
            "Epoch 33/100\n",
            "426/426 [==============================] - 0s 115us/step - loss: 0.4106 - binary_accuracy: 0.9014\n",
            "Epoch 34/100\n",
            "426/426 [==============================] - 0s 122us/step - loss: 0.4445 - binary_accuracy: 0.8967\n",
            "Epoch 35/100\n",
            "426/426 [==============================] - 0s 115us/step - loss: 0.3178 - binary_accuracy: 0.8944\n",
            "Epoch 36/100\n",
            "426/426 [==============================] - 0s 104us/step - loss: 0.4148 - binary_accuracy: 0.8991\n",
            "Epoch 37/100\n",
            "426/426 [==============================] - 0s 108us/step - loss: 0.4654 - binary_accuracy: 0.8850\n",
            "Epoch 38/100\n",
            "426/426 [==============================] - 0s 107us/step - loss: 0.6697 - binary_accuracy: 0.8592\n",
            "Epoch 39/100\n",
            "426/426 [==============================] - 0s 104us/step - loss: 0.3889 - binary_accuracy: 0.9108\n",
            "Epoch 40/100\n",
            "426/426 [==============================] - 0s 106us/step - loss: 0.4967 - binary_accuracy: 0.8826\n",
            "Epoch 41/100\n",
            "426/426 [==============================] - 0s 108us/step - loss: 0.4351 - binary_accuracy: 0.9038\n",
            "Epoch 42/100\n",
            "426/426 [==============================] - 0s 106us/step - loss: 0.4972 - binary_accuracy: 0.8967\n",
            "Epoch 43/100\n",
            "426/426 [==============================] - 0s 110us/step - loss: 0.2653 - binary_accuracy: 0.9343\n",
            "Epoch 44/100\n",
            "426/426 [==============================] - 0s 110us/step - loss: 0.2559 - binary_accuracy: 0.9202\n",
            "Epoch 45/100\n",
            "426/426 [==============================] - 0s 107us/step - loss: 0.3445 - binary_accuracy: 0.9014\n",
            "Epoch 46/100\n",
            "426/426 [==============================] - 0s 113us/step - loss: 0.5198 - binary_accuracy: 0.8709\n",
            "Epoch 47/100\n",
            "426/426 [==============================] - 0s 110us/step - loss: 0.6468 - binary_accuracy: 0.8685\n",
            "Epoch 48/100\n",
            "426/426 [==============================] - 0s 116us/step - loss: 0.5230 - binary_accuracy: 0.8991\n",
            "Epoch 49/100\n",
            "426/426 [==============================] - 0s 108us/step - loss: 0.5894 - binary_accuracy: 0.8803\n",
            "Epoch 50/100\n",
            "426/426 [==============================] - 0s 111us/step - loss: 0.3225 - binary_accuracy: 0.8967\n",
            "Epoch 51/100\n",
            "426/426 [==============================] - 0s 112us/step - loss: 0.3267 - binary_accuracy: 0.9178\n",
            "Epoch 52/100\n",
            "426/426 [==============================] - 0s 105us/step - loss: 0.4147 - binary_accuracy: 0.8967\n",
            "Epoch 53/100\n",
            "426/426 [==============================] - 0s 106us/step - loss: 0.2711 - binary_accuracy: 0.9202\n",
            "Epoch 54/100\n",
            "426/426 [==============================] - 0s 104us/step - loss: 0.2238 - binary_accuracy: 0.9390\n",
            "Epoch 55/100\n",
            "426/426 [==============================] - 0s 109us/step - loss: 0.2890 - binary_accuracy: 0.9131\n",
            "Epoch 56/100\n",
            "426/426 [==============================] - 0s 103us/step - loss: 0.2948 - binary_accuracy: 0.9178\n",
            "Epoch 57/100\n",
            "426/426 [==============================] - 0s 102us/step - loss: 0.2201 - binary_accuracy: 0.9225\n",
            "Epoch 58/100\n",
            "426/426 [==============================] - 0s 106us/step - loss: 0.4207 - binary_accuracy: 0.8897\n",
            "Epoch 59/100\n",
            "426/426 [==============================] - 0s 105us/step - loss: 0.3565 - binary_accuracy: 0.9038\n",
            "Epoch 60/100\n",
            "426/426 [==============================] - 0s 108us/step - loss: 0.4023 - binary_accuracy: 0.9061\n",
            "Epoch 61/100\n",
            "426/426 [==============================] - 0s 108us/step - loss: 0.4847 - binary_accuracy: 0.8967\n",
            "Epoch 62/100\n",
            "426/426 [==============================] - 0s 112us/step - loss: 0.2921 - binary_accuracy: 0.9131\n",
            "Epoch 63/100\n",
            "426/426 [==============================] - 0s 106us/step - loss: 0.2938 - binary_accuracy: 0.9202\n",
            "Epoch 64/100\n",
            "426/426 [==============================] - 0s 107us/step - loss: 0.2953 - binary_accuracy: 0.9085\n",
            "Epoch 65/100\n",
            "426/426 [==============================] - 0s 108us/step - loss: 0.3094 - binary_accuracy: 0.9178\n",
            "Epoch 66/100\n",
            "426/426 [==============================] - 0s 103us/step - loss: 0.2826 - binary_accuracy: 0.9155\n",
            "Epoch 67/100\n",
            "426/426 [==============================] - 0s 109us/step - loss: 0.2846 - binary_accuracy: 0.9249\n",
            "Epoch 68/100\n",
            "426/426 [==============================] - 0s 107us/step - loss: 0.3184 - binary_accuracy: 0.9155\n",
            "Epoch 69/100\n",
            "426/426 [==============================] - 0s 142us/step - loss: 0.4063 - binary_accuracy: 0.8850\n",
            "Epoch 70/100\n",
            "426/426 [==============================] - 0s 120us/step - loss: 0.5022 - binary_accuracy: 0.8944\n",
            "Epoch 71/100\n",
            "426/426 [==============================] - 0s 106us/step - loss: 0.3564 - binary_accuracy: 0.8826\n",
            "Epoch 72/100\n",
            "426/426 [==============================] - 0s 104us/step - loss: 0.2416 - binary_accuracy: 0.9178\n",
            "Epoch 73/100\n",
            "426/426 [==============================] - 0s 104us/step - loss: 0.2224 - binary_accuracy: 0.9249\n",
            "Epoch 74/100\n",
            "426/426 [==============================] - 0s 113us/step - loss: 0.2694 - binary_accuracy: 0.9249\n",
            "Epoch 75/100\n",
            "426/426 [==============================] - 0s 146us/step - loss: 0.2599 - binary_accuracy: 0.9155\n",
            "Epoch 76/100\n",
            "426/426 [==============================] - 0s 108us/step - loss: 0.3293 - binary_accuracy: 0.9038\n",
            "Epoch 77/100\n",
            "426/426 [==============================] - 0s 111us/step - loss: 0.3777 - binary_accuracy: 0.9014\n",
            "Epoch 78/100\n",
            "426/426 [==============================] - 0s 106us/step - loss: 0.4392 - binary_accuracy: 0.8803\n",
            "Epoch 79/100\n",
            "426/426 [==============================] - 0s 109us/step - loss: 0.3846 - binary_accuracy: 0.8803\n",
            "Epoch 80/100\n",
            "426/426 [==============================] - 0s 113us/step - loss: 0.3044 - binary_accuracy: 0.9085\n",
            "Epoch 81/100\n",
            "426/426 [==============================] - 0s 106us/step - loss: 0.2168 - binary_accuracy: 0.9296\n",
            "Epoch 82/100\n",
            "426/426 [==============================] - 0s 161us/step - loss: 0.3835 - binary_accuracy: 0.8967\n",
            "Epoch 83/100\n",
            "426/426 [==============================] - 0s 118us/step - loss: 0.2499 - binary_accuracy: 0.9249\n",
            "Epoch 84/100\n",
            "426/426 [==============================] - 0s 118us/step - loss: 0.4970 - binary_accuracy: 0.8826\n",
            "Epoch 85/100\n",
            "426/426 [==============================] - 0s 109us/step - loss: 0.4958 - binary_accuracy: 0.8897\n",
            "Epoch 86/100\n",
            "426/426 [==============================] - 0s 107us/step - loss: 0.3495 - binary_accuracy: 0.9131\n",
            "Epoch 87/100\n",
            "426/426 [==============================] - 0s 108us/step - loss: 0.2182 - binary_accuracy: 0.9343\n",
            "Epoch 88/100\n",
            "426/426 [==============================] - 0s 111us/step - loss: 0.4265 - binary_accuracy: 0.8944\n",
            "Epoch 89/100\n",
            "426/426 [==============================] - 0s 120us/step - loss: 0.2875 - binary_accuracy: 0.8991\n",
            "Epoch 90/100\n",
            "426/426 [==============================] - 0s 107us/step - loss: 0.2347 - binary_accuracy: 0.9249\n",
            "Epoch 91/100\n",
            "426/426 [==============================] - 0s 105us/step - loss: 0.2293 - binary_accuracy: 0.9366\n",
            "Epoch 92/100\n",
            "426/426 [==============================] - 0s 107us/step - loss: 0.2652 - binary_accuracy: 0.9155\n",
            "Epoch 93/100\n",
            "426/426 [==============================] - 0s 107us/step - loss: 0.3737 - binary_accuracy: 0.9085\n",
            "Epoch 94/100\n",
            "426/426 [==============================] - 0s 106us/step - loss: 0.3021 - binary_accuracy: 0.9061\n",
            "Epoch 95/100\n",
            "426/426 [==============================] - 0s 116us/step - loss: 0.5667 - binary_accuracy: 0.8779\n",
            "Epoch 96/100\n",
            "426/426 [==============================] - 0s 112us/step - loss: 0.3059 - binary_accuracy: 0.9225\n",
            "Epoch 97/100\n",
            "426/426 [==============================] - 0s 108us/step - loss: 0.2952 - binary_accuracy: 0.9155\n",
            "Epoch 98/100\n",
            "426/426 [==============================] - 0s 107us/step - loss: 0.3043 - binary_accuracy: 0.9249\n",
            "Epoch 99/100\n",
            "426/426 [==============================] - 0s 107us/step - loss: 0.2624 - binary_accuracy: 0.9085\n",
            "Epoch 100/100\n",
            "426/426 [==============================] - 0s 106us/step - loss: 0.3141 - binary_accuracy: 0.9085\n"
          ],
          "name": "stdout"
        },
        {
          "output_type": "execute_result",
          "data": {
            "text/plain": [
              "<keras.callbacks.callbacks.History at 0x7fd3f37ebf28>"
            ]
          },
          "metadata": {
            "tags": []
          },
          "execution_count": 11
        }
      ]
    },
    {
      "cell_type": "code",
      "metadata": {
        "id": "OZV2VpuYOT8c",
        "colab_type": "code",
        "colab": {}
      },
      "source": [
        "# Avaliando\n",
        "previsoes = classificador.predict(previsores_teste)\n",
        "previsoes = (previsoes > 0.5)"
      ],
      "execution_count": 12,
      "outputs": []
    },
    {
      "cell_type": "code",
      "metadata": {
        "id": "Bj_ua2d-Opez",
        "colab_type": "code",
        "colab": {
          "base_uri": "https://localhost:8080/",
          "height": 52
        },
        "outputId": "fa08e71e-93f5-45aa-949e-560a47ea0a92"
      },
      "source": [
        "# Gerando a Matriz de Confusão\n",
        "from sklearn.metrics import confusion_matrix, accuracy_score\n",
        "precisao = accuracy_score(classe_teste, previsoes)\n",
        "matriz = confusion_matrix(classe_teste, previsoes)\n",
        "print(matriz)"
      ],
      "execution_count": 14,
      "outputs": [
        {
          "output_type": "stream",
          "text": [
            "[[50  9]\n",
            " [ 3 81]]\n"
          ],
          "name": "stdout"
        }
      ]
    },
    {
      "cell_type": "code",
      "metadata": {
        "id": "QFTKa-OIQCkH",
        "colab_type": "code",
        "colab": {
          "base_uri": "https://localhost:8080/",
          "height": 52
        },
        "outputId": "35cbf2d1-cb25-4aa8-c8c3-4a254a045bc3"
      },
      "source": [
        "# Avaliando com o keras\n",
        "resultado = classificador.evaluate(previsores_teste, classe_teste)\n",
        "print(resultado)"
      ],
      "execution_count": 16,
      "outputs": [
        {
          "output_type": "stream",
          "text": [
            "143/143 [==============================] - 0s 123us/step\n",
            "[0.54477504245494, 0.9160839319229126]\n"
          ],
          "name": "stdout"
        }
      ]
    }
  ]
}